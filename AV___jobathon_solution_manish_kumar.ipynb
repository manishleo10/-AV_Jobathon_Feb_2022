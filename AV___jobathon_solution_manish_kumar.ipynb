{
 "cells": [
  {
   "cell_type": "markdown",
   "id": "7f73a3e2",
   "metadata": {},
   "source": [
    "## importing the necessary libraries"
   ]
  },
  {
   "cell_type": "code",
   "execution_count": 85,
   "id": "9d46c327",
   "metadata": {
    "ExecuteTime": {
     "end_time": "2022-02-13T17:17:54.861460Z",
     "start_time": "2022-02-13T17:17:54.721372Z"
    }
   },
   "outputs": [],
   "source": [
    "import pandas as pd\n",
    "import seaborn as sns\n",
    "import numpy as np\n",
    "import matplotlib.pyplot as plt\n",
    "from sklearn.preprocessing import MinMaxScaler, OneHotEncoder\n",
    "from sklearn.model_selection import train_test_split\n",
    "from sklearn.tree import DecisionTreeRegressor\n",
    "from sklearn.metrics import r2_score, mean_squared_error\n",
    "from sklearn.ensemble import RandomForestRegressor\n",
    "from sklearn.preprocessing import MinMaxScaler, StandardScaler\n",
    "from sklearn.linear_model import LinearRegression\n",
    "from xgboost import XGBRegressor\n",
    "from sklearn.model_selection import KFold\n",
    "import warnings\n",
    "warnings.filterwarnings(\"ignore\")"
   ]
  },
  {
   "cell_type": "code",
   "execution_count": 86,
   "id": "527a03e8",
   "metadata": {
    "ExecuteTime": {
     "end_time": "2022-02-13T17:17:55.462770Z",
     "start_time": "2022-02-13T17:17:55.129093Z"
    }
   },
   "outputs": [],
   "source": [
    "#loading the necessary datasets\n",
    "train = pd.read_csv(\"train_0OECtn8.csv\")\n",
    "test = pd.read_csv('test_1zqHu22.csv')\n",
    "sample = pd.read_csv('sample_submission_JPlpRcN.csv')"
   ]
  },
  {
   "cell_type": "code",
   "execution_count": 87,
   "id": "332e3225",
   "metadata": {
    "ExecuteTime": {
     "end_time": "2022-02-13T17:17:55.761131Z",
     "start_time": "2022-02-13T17:17:55.675126Z"
    }
   },
   "outputs": [
    {
     "data": {
      "text/html": [
       "<div>\n",
       "<style scoped>\n",
       "    .dataframe tbody tr th:only-of-type {\n",
       "        vertical-align: middle;\n",
       "    }\n",
       "\n",
       "    .dataframe tbody tr th {\n",
       "        vertical-align: top;\n",
       "    }\n",
       "\n",
       "    .dataframe thead th {\n",
       "        text-align: right;\n",
       "    }\n",
       "</style>\n",
       "<table border=\"1\" class=\"dataframe\">\n",
       "  <thead>\n",
       "    <tr style=\"text-align: right;\">\n",
       "      <th></th>\n",
       "      <th>row_id</th>\n",
       "      <th>user_id</th>\n",
       "      <th>category_id</th>\n",
       "      <th>video_id</th>\n",
       "      <th>age</th>\n",
       "      <th>gender</th>\n",
       "      <th>profession</th>\n",
       "      <th>followers</th>\n",
       "      <th>views</th>\n",
       "      <th>engagement_score</th>\n",
       "    </tr>\n",
       "  </thead>\n",
       "  <tbody>\n",
       "    <tr>\n",
       "      <th>0</th>\n",
       "      <td>1</td>\n",
       "      <td>19990</td>\n",
       "      <td>37</td>\n",
       "      <td>128</td>\n",
       "      <td>24</td>\n",
       "      <td>Male</td>\n",
       "      <td>Student</td>\n",
       "      <td>180</td>\n",
       "      <td>1000</td>\n",
       "      <td>4.33</td>\n",
       "    </tr>\n",
       "    <tr>\n",
       "      <th>1</th>\n",
       "      <td>2</td>\n",
       "      <td>5304</td>\n",
       "      <td>32</td>\n",
       "      <td>132</td>\n",
       "      <td>14</td>\n",
       "      <td>Female</td>\n",
       "      <td>Student</td>\n",
       "      <td>330</td>\n",
       "      <td>714</td>\n",
       "      <td>1.79</td>\n",
       "    </tr>\n",
       "    <tr>\n",
       "      <th>2</th>\n",
       "      <td>3</td>\n",
       "      <td>1840</td>\n",
       "      <td>12</td>\n",
       "      <td>24</td>\n",
       "      <td>19</td>\n",
       "      <td>Male</td>\n",
       "      <td>Student</td>\n",
       "      <td>180</td>\n",
       "      <td>138</td>\n",
       "      <td>4.35</td>\n",
       "    </tr>\n",
       "    <tr>\n",
       "      <th>3</th>\n",
       "      <td>4</td>\n",
       "      <td>12597</td>\n",
       "      <td>23</td>\n",
       "      <td>112</td>\n",
       "      <td>19</td>\n",
       "      <td>Male</td>\n",
       "      <td>Student</td>\n",
       "      <td>220</td>\n",
       "      <td>613</td>\n",
       "      <td>3.77</td>\n",
       "    </tr>\n",
       "    <tr>\n",
       "      <th>4</th>\n",
       "      <td>5</td>\n",
       "      <td>13626</td>\n",
       "      <td>23</td>\n",
       "      <td>112</td>\n",
       "      <td>27</td>\n",
       "      <td>Male</td>\n",
       "      <td>Working Professional</td>\n",
       "      <td>220</td>\n",
       "      <td>613</td>\n",
       "      <td>3.13</td>\n",
       "    </tr>\n",
       "    <tr>\n",
       "      <th>...</th>\n",
       "      <td>...</td>\n",
       "      <td>...</td>\n",
       "      <td>...</td>\n",
       "      <td>...</td>\n",
       "      <td>...</td>\n",
       "      <td>...</td>\n",
       "      <td>...</td>\n",
       "      <td>...</td>\n",
       "      <td>...</td>\n",
       "      <td>...</td>\n",
       "    </tr>\n",
       "    <tr>\n",
       "      <th>89192</th>\n",
       "      <td>89193</td>\n",
       "      <td>23996</td>\n",
       "      <td>15</td>\n",
       "      <td>32</td>\n",
       "      <td>25</td>\n",
       "      <td>Male</td>\n",
       "      <td>Other</td>\n",
       "      <td>340</td>\n",
       "      <td>662</td>\n",
       "      <td>3.91</td>\n",
       "    </tr>\n",
       "    <tr>\n",
       "      <th>89193</th>\n",
       "      <td>89194</td>\n",
       "      <td>20466</td>\n",
       "      <td>20</td>\n",
       "      <td>47</td>\n",
       "      <td>31</td>\n",
       "      <td>Male</td>\n",
       "      <td>Other</td>\n",
       "      <td>240</td>\n",
       "      <td>892</td>\n",
       "      <td>3.56</td>\n",
       "    </tr>\n",
       "    <tr>\n",
       "      <th>89194</th>\n",
       "      <td>89195</td>\n",
       "      <td>13655</td>\n",
       "      <td>16</td>\n",
       "      <td>97</td>\n",
       "      <td>25</td>\n",
       "      <td>Male</td>\n",
       "      <td>Student</td>\n",
       "      <td>270</td>\n",
       "      <td>462</td>\n",
       "      <td>4.23</td>\n",
       "    </tr>\n",
       "    <tr>\n",
       "      <th>89195</th>\n",
       "      <td>89196</td>\n",
       "      <td>24840</td>\n",
       "      <td>9</td>\n",
       "      <td>18</td>\n",
       "      <td>35</td>\n",
       "      <td>Male</td>\n",
       "      <td>Working Professional</td>\n",
       "      <td>230</td>\n",
       "      <td>819</td>\n",
       "      <td>3.77</td>\n",
       "    </tr>\n",
       "    <tr>\n",
       "      <th>89196</th>\n",
       "      <td>89197</td>\n",
       "      <td>27183</td>\n",
       "      <td>25</td>\n",
       "      <td>150</td>\n",
       "      <td>13</td>\n",
       "      <td>Male</td>\n",
       "      <td>Student</td>\n",
       "      <td>240</td>\n",
       "      <td>317</td>\n",
       "      <td>4.31</td>\n",
       "    </tr>\n",
       "  </tbody>\n",
       "</table>\n",
       "<p>89197 rows × 10 columns</p>\n",
       "</div>"
      ],
      "text/plain": [
       "       row_id  user_id  category_id  video_id  age  gender  \\\n",
       "0           1    19990           37       128   24    Male   \n",
       "1           2     5304           32       132   14  Female   \n",
       "2           3     1840           12        24   19    Male   \n",
       "3           4    12597           23       112   19    Male   \n",
       "4           5    13626           23       112   27    Male   \n",
       "...       ...      ...          ...       ...  ...     ...   \n",
       "89192   89193    23996           15        32   25    Male   \n",
       "89193   89194    20466           20        47   31    Male   \n",
       "89194   89195    13655           16        97   25    Male   \n",
       "89195   89196    24840            9        18   35    Male   \n",
       "89196   89197    27183           25       150   13    Male   \n",
       "\n",
       "                 profession  followers  views  engagement_score  \n",
       "0                   Student        180   1000              4.33  \n",
       "1                   Student        330    714              1.79  \n",
       "2                   Student        180    138              4.35  \n",
       "3                   Student        220    613              3.77  \n",
       "4      Working Professional        220    613              3.13  \n",
       "...                     ...        ...    ...               ...  \n",
       "89192                 Other        340    662              3.91  \n",
       "89193                 Other        240    892              3.56  \n",
       "89194               Student        270    462              4.23  \n",
       "89195  Working Professional        230    819              3.77  \n",
       "89196               Student        240    317              4.31  \n",
       "\n",
       "[89197 rows x 10 columns]"
      ]
     },
     "execution_count": 87,
     "metadata": {},
     "output_type": "execute_result"
    }
   ],
   "source": [
    "train"
   ]
  },
  {
   "cell_type": "code",
   "execution_count": 88,
   "id": "358afab0",
   "metadata": {
    "ExecuteTime": {
     "end_time": "2022-02-13T17:17:56.249170Z",
     "start_time": "2022-02-13T17:17:56.214166Z"
    }
   },
   "outputs": [],
   "source": [
    "#dropping the row_id columns before training\n",
    "train = train.drop('row_id',axis=1)"
   ]
  },
  {
   "cell_type": "code",
   "execution_count": 89,
   "id": "23751330",
   "metadata": {
    "ExecuteTime": {
     "end_time": "2022-02-13T17:17:56.840232Z",
     "start_time": "2022-02-13T17:17:56.743905Z"
    }
   },
   "outputs": [
    {
     "name": "stdout",
     "output_type": "stream",
     "text": [
      "<class 'pandas.core.frame.DataFrame'>\n",
      "RangeIndex: 89197 entries, 0 to 89196\n",
      "Data columns (total 9 columns):\n",
      " #   Column            Non-Null Count  Dtype  \n",
      "---  ------            --------------  -----  \n",
      " 0   user_id           89197 non-null  int64  \n",
      " 1   category_id       89197 non-null  int64  \n",
      " 2   video_id          89197 non-null  int64  \n",
      " 3   age               89197 non-null  int64  \n",
      " 4   gender            89197 non-null  object \n",
      " 5   profession        89197 non-null  object \n",
      " 6   followers         89197 non-null  int64  \n",
      " 7   views             89197 non-null  int64  \n",
      " 8   engagement_score  89197 non-null  float64\n",
      "dtypes: float64(1), int64(6), object(2)\n",
      "memory usage: 6.1+ MB\n"
     ]
    }
   ],
   "source": [
    "train.info()"
   ]
  },
  {
   "cell_type": "code",
   "execution_count": 90,
   "id": "af4d4d9b",
   "metadata": {
    "ExecuteTime": {
     "end_time": "2022-02-13T17:17:57.287327Z",
     "start_time": "2022-02-13T17:17:57.108971Z"
    }
   },
   "outputs": [
    {
     "data": {
      "text/html": [
       "<div>\n",
       "<style scoped>\n",
       "    .dataframe tbody tr th:only-of-type {\n",
       "        vertical-align: middle;\n",
       "    }\n",
       "\n",
       "    .dataframe tbody tr th {\n",
       "        vertical-align: top;\n",
       "    }\n",
       "\n",
       "    .dataframe thead th {\n",
       "        text-align: right;\n",
       "    }\n",
       "</style>\n",
       "<table border=\"1\" class=\"dataframe\">\n",
       "  <thead>\n",
       "    <tr style=\"text-align: right;\">\n",
       "      <th></th>\n",
       "      <th>user_id</th>\n",
       "      <th>category_id</th>\n",
       "      <th>video_id</th>\n",
       "      <th>age</th>\n",
       "      <th>followers</th>\n",
       "      <th>views</th>\n",
       "      <th>engagement_score</th>\n",
       "    </tr>\n",
       "  </thead>\n",
       "  <tbody>\n",
       "    <tr>\n",
       "      <th>count</th>\n",
       "      <td>89197.000000</td>\n",
       "      <td>89197.000000</td>\n",
       "      <td>89197.000000</td>\n",
       "      <td>89197.000000</td>\n",
       "      <td>89197.000000</td>\n",
       "      <td>89197.000000</td>\n",
       "      <td>89197.000000</td>\n",
       "    </tr>\n",
       "    <tr>\n",
       "      <th>mean</th>\n",
       "      <td>13881.909806</td>\n",
       "      <td>18.323733</td>\n",
       "      <td>77.715383</td>\n",
       "      <td>24.848616</td>\n",
       "      <td>252.460172</td>\n",
       "      <td>502.980268</td>\n",
       "      <td>3.487797</td>\n",
       "    </tr>\n",
       "    <tr>\n",
       "      <th>std</th>\n",
       "      <td>8005.582771</td>\n",
       "      <td>11.675154</td>\n",
       "      <td>48.469656</td>\n",
       "      <td>8.955535</td>\n",
       "      <td>46.094468</td>\n",
       "      <td>268.569482</td>\n",
       "      <td>0.863498</td>\n",
       "    </tr>\n",
       "    <tr>\n",
       "      <th>min</th>\n",
       "      <td>1.000000</td>\n",
       "      <td>1.000000</td>\n",
       "      <td>1.000000</td>\n",
       "      <td>10.000000</td>\n",
       "      <td>160.000000</td>\n",
       "      <td>30.000000</td>\n",
       "      <td>0.000000</td>\n",
       "    </tr>\n",
       "    <tr>\n",
       "      <th>25%</th>\n",
       "      <td>6945.000000</td>\n",
       "      <td>8.000000</td>\n",
       "      <td>34.000000</td>\n",
       "      <td>18.000000</td>\n",
       "      <td>230.000000</td>\n",
       "      <td>229.000000</td>\n",
       "      <td>2.900000</td>\n",
       "    </tr>\n",
       "    <tr>\n",
       "      <th>50%</th>\n",
       "      <td>13892.000000</td>\n",
       "      <td>16.000000</td>\n",
       "      <td>76.000000</td>\n",
       "      <td>23.000000</td>\n",
       "      <td>240.000000</td>\n",
       "      <td>467.000000</td>\n",
       "      <td>3.710000</td>\n",
       "    </tr>\n",
       "    <tr>\n",
       "      <th>75%</th>\n",
       "      <td>20819.000000</td>\n",
       "      <td>26.000000</td>\n",
       "      <td>120.000000</td>\n",
       "      <td>32.000000</td>\n",
       "      <td>280.000000</td>\n",
       "      <td>714.000000</td>\n",
       "      <td>4.150000</td>\n",
       "    </tr>\n",
       "    <tr>\n",
       "      <th>max</th>\n",
       "      <td>27734.000000</td>\n",
       "      <td>47.000000</td>\n",
       "      <td>175.000000</td>\n",
       "      <td>68.000000</td>\n",
       "      <td>360.000000</td>\n",
       "      <td>1000.000000</td>\n",
       "      <td>5.000000</td>\n",
       "    </tr>\n",
       "  </tbody>\n",
       "</table>\n",
       "</div>"
      ],
      "text/plain": [
       "            user_id   category_id      video_id           age     followers  \\\n",
       "count  89197.000000  89197.000000  89197.000000  89197.000000  89197.000000   \n",
       "mean   13881.909806     18.323733     77.715383     24.848616    252.460172   \n",
       "std     8005.582771     11.675154     48.469656      8.955535     46.094468   \n",
       "min        1.000000      1.000000      1.000000     10.000000    160.000000   \n",
       "25%     6945.000000      8.000000     34.000000     18.000000    230.000000   \n",
       "50%    13892.000000     16.000000     76.000000     23.000000    240.000000   \n",
       "75%    20819.000000     26.000000    120.000000     32.000000    280.000000   \n",
       "max    27734.000000     47.000000    175.000000     68.000000    360.000000   \n",
       "\n",
       "              views  engagement_score  \n",
       "count  89197.000000      89197.000000  \n",
       "mean     502.980268          3.487797  \n",
       "std      268.569482          0.863498  \n",
       "min       30.000000          0.000000  \n",
       "25%      229.000000          2.900000  \n",
       "50%      467.000000          3.710000  \n",
       "75%      714.000000          4.150000  \n",
       "max     1000.000000          5.000000  "
      ]
     },
     "execution_count": 90,
     "metadata": {},
     "output_type": "execute_result"
    }
   ],
   "source": [
    "train.describe()"
   ]
  },
  {
   "cell_type": "code",
   "execution_count": 91,
   "id": "ee5485e1",
   "metadata": {
    "ExecuteTime": {
     "end_time": "2022-02-13T17:17:57.492344Z",
     "start_time": "2022-02-13T17:17:57.457340Z"
    }
   },
   "outputs": [],
   "source": [
    "# Identify input and target columns\n",
    "input_cols, target_col = train.columns[0:-1], train.columns[-1]\n",
    "inputs_df, targets = train[input_cols].copy(), train[target_col].copy()"
   ]
  },
  {
   "cell_type": "code",
   "execution_count": 92,
   "id": "8745f5a9",
   "metadata": {
    "ExecuteTime": {
     "end_time": "2022-02-13T17:17:57.949380Z",
     "start_time": "2022-02-13T17:17:57.918375Z"
    }
   },
   "outputs": [],
   "source": [
    "# Identify numeric and categorical columns\n",
    "numeric_cols = train[input_cols].select_dtypes(include=np.number).columns.tolist()\n",
    "categorical_cols = train[input_cols].select_dtypes(include='object').columns.tolist()"
   ]
  },
  {
   "cell_type": "code",
   "execution_count": 93,
   "id": "678f0732",
   "metadata": {
    "ExecuteTime": {
     "end_time": "2022-02-13T17:17:58.462623Z",
     "start_time": "2022-02-13T17:17:58.295403Z"
    }
   },
   "outputs": [],
   "source": [
    "# One-hot encode categorical columns\n",
    "encoder = OneHotEncoder(sparse=False, handle_unknown='ignore').fit(inputs_df[categorical_cols])\n",
    "encoded_cols = list(encoder.get_feature_names(categorical_cols))\n",
    "inputs_df[encoded_cols] = encoder.transform(inputs_df[categorical_cols])"
   ]
  },
  {
   "cell_type": "code",
   "execution_count": 94,
   "id": "e5a0dec5",
   "metadata": {
    "ExecuteTime": {
     "end_time": "2022-02-13T17:17:58.639255Z",
     "start_time": "2022-02-13T17:17:58.589257Z"
    }
   },
   "outputs": [],
   "source": [
    "scaler = MinMaxScaler().fit(inputs_df[['age','followers','views']])\n",
    "scaler2 = StandardScaler().fit(inputs_df[['age','followers','views']])"
   ]
  },
  {
   "cell_type": "code",
   "execution_count": 95,
   "id": "37699059",
   "metadata": {
    "ExecuteTime": {
     "end_time": "2022-02-13T17:18:02.054602Z",
     "start_time": "2022-02-13T17:18:02.021599Z"
    }
   },
   "outputs": [],
   "source": [
    "#transforming training and validation data using standard scaler\n",
    "inputs_df[['age','followers','views']] = scaler2.transform(inputs_df[['age','followers','views']])\n",
    "# val_inputs[['age','followers','views']] = scaler2.transform(val_inputs[['age','followers','views']])"
   ]
  },
  {
   "cell_type": "code",
   "execution_count": 106,
   "id": "10578d37",
   "metadata": {
    "ExecuteTime": {
     "end_time": "2022-02-13T17:22:13.007605Z",
     "start_time": "2022-02-13T17:22:12.956604Z"
    }
   },
   "outputs": [],
   "source": [
    "# Create training and validation sets using train test split\n",
    "train_inputs, val_inputs, train_targets, val_targets = train_test_split(\n",
    "    inputs_df[numeric_cols + encoded_cols], targets, test_size=0.1, random_state=42)"
   ]
  },
  {
   "cell_type": "code",
   "execution_count": 107,
   "id": "952f9e88",
   "metadata": {
    "ExecuteTime": {
     "end_time": "2022-02-13T17:22:13.469643Z",
     "start_time": "2022-02-13T17:22:13.425637Z"
    }
   },
   "outputs": [
    {
     "data": {
      "text/html": [
       "<div>\n",
       "<style scoped>\n",
       "    .dataframe tbody tr th:only-of-type {\n",
       "        vertical-align: middle;\n",
       "    }\n",
       "\n",
       "    .dataframe tbody tr th {\n",
       "        vertical-align: top;\n",
       "    }\n",
       "\n",
       "    .dataframe thead th {\n",
       "        text-align: right;\n",
       "    }\n",
       "</style>\n",
       "<table border=\"1\" class=\"dataframe\">\n",
       "  <thead>\n",
       "    <tr style=\"text-align: right;\">\n",
       "      <th></th>\n",
       "      <th>user_id</th>\n",
       "      <th>category_id</th>\n",
       "      <th>video_id</th>\n",
       "      <th>age</th>\n",
       "      <th>followers</th>\n",
       "      <th>views</th>\n",
       "      <th>gender_Female</th>\n",
       "      <th>gender_Male</th>\n",
       "      <th>profession_Other</th>\n",
       "      <th>profession_Student</th>\n",
       "      <th>profession_Working Professional</th>\n",
       "    </tr>\n",
       "  </thead>\n",
       "  <tbody>\n",
       "    <tr>\n",
       "      <th>3292</th>\n",
       "      <td>21603</td>\n",
       "      <td>34</td>\n",
       "      <td>95</td>\n",
       "      <td>0.240231</td>\n",
       "      <td>-0.487267</td>\n",
       "      <td>1.254877</td>\n",
       "      <td>1.0</td>\n",
       "      <td>0.0</td>\n",
       "      <td>0.0</td>\n",
       "      <td>0.0</td>\n",
       "      <td>1.0</td>\n",
       "    </tr>\n",
       "    <tr>\n",
       "      <th>34384</th>\n",
       "      <td>14043</td>\n",
       "      <td>8</td>\n",
       "      <td>17</td>\n",
       "      <td>-0.653076</td>\n",
       "      <td>0.597468</td>\n",
       "      <td>0.465505</td>\n",
       "      <td>1.0</td>\n",
       "      <td>0.0</td>\n",
       "      <td>0.0</td>\n",
       "      <td>1.0</td>\n",
       "      <td>0.0</td>\n",
       "    </tr>\n",
       "    <tr>\n",
       "      <th>2173</th>\n",
       "      <td>21786</td>\n",
       "      <td>1</td>\n",
       "      <td>1</td>\n",
       "      <td>0.351894</td>\n",
       "      <td>2.333044</td>\n",
       "      <td>1.813395</td>\n",
       "      <td>0.0</td>\n",
       "      <td>1.0</td>\n",
       "      <td>0.0</td>\n",
       "      <td>0.0</td>\n",
       "      <td>1.0</td>\n",
       "    </tr>\n",
       "    <tr>\n",
       "      <th>17788</th>\n",
       "      <td>5733</td>\n",
       "      <td>21</td>\n",
       "      <td>51</td>\n",
       "      <td>0.463558</td>\n",
       "      <td>1.465256</td>\n",
       "      <td>1.511795</td>\n",
       "      <td>0.0</td>\n",
       "      <td>1.0</td>\n",
       "      <td>1.0</td>\n",
       "      <td>0.0</td>\n",
       "      <td>0.0</td>\n",
       "    </tr>\n",
       "    <tr>\n",
       "      <th>49397</th>\n",
       "      <td>12971</td>\n",
       "      <td>12</td>\n",
       "      <td>42</td>\n",
       "      <td>-0.764740</td>\n",
       "      <td>-1.572002</td>\n",
       "      <td>-1.358987</td>\n",
       "      <td>0.0</td>\n",
       "      <td>1.0</td>\n",
       "      <td>0.0</td>\n",
       "      <td>1.0</td>\n",
       "      <td>0.0</td>\n",
       "    </tr>\n",
       "    <tr>\n",
       "      <th>...</th>\n",
       "      <td>...</td>\n",
       "      <td>...</td>\n",
       "      <td>...</td>\n",
       "      <td>...</td>\n",
       "      <td>...</td>\n",
       "      <td>...</td>\n",
       "      <td>...</td>\n",
       "      <td>...</td>\n",
       "      <td>...</td>\n",
       "      <td>...</td>\n",
       "      <td>...</td>\n",
       "    </tr>\n",
       "    <tr>\n",
       "      <th>6265</th>\n",
       "      <td>9481</td>\n",
       "      <td>19</td>\n",
       "      <td>1</td>\n",
       "      <td>1.356865</td>\n",
       "      <td>-0.487267</td>\n",
       "      <td>-0.498869</td>\n",
       "      <td>0.0</td>\n",
       "      <td>1.0</td>\n",
       "      <td>1.0</td>\n",
       "      <td>0.0</td>\n",
       "      <td>0.0</td>\n",
       "    </tr>\n",
       "    <tr>\n",
       "      <th>54886</th>\n",
       "      <td>22610</td>\n",
       "      <td>34</td>\n",
       "      <td>96</td>\n",
       "      <td>-0.541413</td>\n",
       "      <td>-0.487267</td>\n",
       "      <td>1.254877</td>\n",
       "      <td>0.0</td>\n",
       "      <td>1.0</td>\n",
       "      <td>0.0</td>\n",
       "      <td>1.0</td>\n",
       "      <td>0.0</td>\n",
       "    </tr>\n",
       "    <tr>\n",
       "      <th>76820</th>\n",
       "      <td>5904</td>\n",
       "      <td>5</td>\n",
       "      <td>119</td>\n",
       "      <td>-1.323057</td>\n",
       "      <td>-0.270320</td>\n",
       "      <td>-1.020152</td>\n",
       "      <td>0.0</td>\n",
       "      <td>1.0</td>\n",
       "      <td>0.0</td>\n",
       "      <td>1.0</td>\n",
       "      <td>0.0</td>\n",
       "    </tr>\n",
       "    <tr>\n",
       "      <th>860</th>\n",
       "      <td>14348</td>\n",
       "      <td>3</td>\n",
       "      <td>4</td>\n",
       "      <td>-0.876403</td>\n",
       "      <td>0.380521</td>\n",
       "      <td>0.439441</td>\n",
       "      <td>1.0</td>\n",
       "      <td>0.0</td>\n",
       "      <td>0.0</td>\n",
       "      <td>1.0</td>\n",
       "      <td>0.0</td>\n",
       "    </tr>\n",
       "    <tr>\n",
       "      <th>15795</th>\n",
       "      <td>8076</td>\n",
       "      <td>13</td>\n",
       "      <td>147</td>\n",
       "      <td>1.356865</td>\n",
       "      <td>1.899150</td>\n",
       "      <td>0.465505</td>\n",
       "      <td>1.0</td>\n",
       "      <td>0.0</td>\n",
       "      <td>1.0</td>\n",
       "      <td>0.0</td>\n",
       "      <td>0.0</td>\n",
       "    </tr>\n",
       "  </tbody>\n",
       "</table>\n",
       "<p>80277 rows × 11 columns</p>\n",
       "</div>"
      ],
      "text/plain": [
       "       user_id  category_id  video_id       age  followers     views  \\\n",
       "3292     21603           34        95  0.240231  -0.487267  1.254877   \n",
       "34384    14043            8        17 -0.653076   0.597468  0.465505   \n",
       "2173     21786            1         1  0.351894   2.333044  1.813395   \n",
       "17788     5733           21        51  0.463558   1.465256  1.511795   \n",
       "49397    12971           12        42 -0.764740  -1.572002 -1.358987   \n",
       "...        ...          ...       ...       ...        ...       ...   \n",
       "6265      9481           19         1  1.356865  -0.487267 -0.498869   \n",
       "54886    22610           34        96 -0.541413  -0.487267  1.254877   \n",
       "76820     5904            5       119 -1.323057  -0.270320 -1.020152   \n",
       "860      14348            3         4 -0.876403   0.380521  0.439441   \n",
       "15795     8076           13       147  1.356865   1.899150  0.465505   \n",
       "\n",
       "       gender_Female  gender_Male  profession_Other  profession_Student  \\\n",
       "3292             1.0          0.0               0.0                 0.0   \n",
       "34384            1.0          0.0               0.0                 1.0   \n",
       "2173             0.0          1.0               0.0                 0.0   \n",
       "17788            0.0          1.0               1.0                 0.0   \n",
       "49397            0.0          1.0               0.0                 1.0   \n",
       "...              ...          ...               ...                 ...   \n",
       "6265             0.0          1.0               1.0                 0.0   \n",
       "54886            0.0          1.0               0.0                 1.0   \n",
       "76820            0.0          1.0               0.0                 1.0   \n",
       "860              1.0          0.0               0.0                 1.0   \n",
       "15795            1.0          0.0               1.0                 0.0   \n",
       "\n",
       "       profession_Working Professional  \n",
       "3292                               1.0  \n",
       "34384                              0.0  \n",
       "2173                               1.0  \n",
       "17788                              0.0  \n",
       "49397                              0.0  \n",
       "...                                ...  \n",
       "6265                               0.0  \n",
       "54886                              0.0  \n",
       "76820                              0.0  \n",
       "860                                0.0  \n",
       "15795                              0.0  \n",
       "\n",
       "[80277 rows x 11 columns]"
      ]
     },
     "execution_count": 107,
     "metadata": {},
     "output_type": "execute_result"
    }
   ],
   "source": [
    "train_inputs"
   ]
  },
  {
   "cell_type": "markdown",
   "id": "b621b185",
   "metadata": {},
   "source": [
    "## Choosing xgboost model for training"
   ]
  },
  {
   "cell_type": "code",
   "execution_count": 108,
   "id": "c9e206e7",
   "metadata": {
    "ExecuteTime": {
     "end_time": "2022-02-13T17:22:13.805668Z",
     "start_time": "2022-02-13T17:22:13.788665Z"
    }
   },
   "outputs": [],
   "source": [
    "#loadin the model parameter\n",
    "model = XGBRegressor(n_jobs=-1, random_state=42, n_estimators=1000, \n",
    "                     learning_rate=0.2, max_depth=10, subsample=0.9, \n",
    "                     colsample_bytree=0.7)"
   ]
  },
  {
   "cell_type": "code",
   "execution_count": 109,
   "id": "ac550ea0",
   "metadata": {
    "ExecuteTime": {
     "end_time": "2022-02-13T17:23:05.030229Z",
     "start_time": "2022-02-13T17:22:14.440177Z"
    }
   },
   "outputs": [
    {
     "data": {
      "text/plain": [
       "XGBRegressor(base_score=0.5, booster='gbtree', colsample_bylevel=1,\n",
       "             colsample_bynode=1, colsample_bytree=0.7, enable_categorical=False,\n",
       "             gamma=0, gpu_id=-1, importance_type=None,\n",
       "             interaction_constraints='', learning_rate=0.2, max_delta_step=0,\n",
       "             max_depth=10, min_child_weight=1, missing=nan,\n",
       "             monotone_constraints='()', n_estimators=1000, n_jobs=-1,\n",
       "             num_parallel_tree=1, predictor='auto', random_state=42,\n",
       "             reg_alpha=0, reg_lambda=1, scale_pos_weight=1, subsample=0.9,\n",
       "             tree_method='exact', validate_parameters=1, verbosity=None)"
      ]
     },
     "execution_count": 109,
     "metadata": {},
     "output_type": "execute_result"
    }
   ],
   "source": [
    "#fitting model on the training set\n",
    "model.fit(train_inputs,train_targets)"
   ]
  },
  {
   "cell_type": "code",
   "execution_count": 110,
   "id": "feb8bf87",
   "metadata": {
    "ExecuteTime": {
     "end_time": "2022-02-13T17:23:06.917602Z",
     "start_time": "2022-02-13T17:23:05.035230Z"
    }
   },
   "outputs": [],
   "source": [
    "#model preditions on the training  and validation set\n",
    "train_preds = model.predict(train_inputs)\n",
    "val_preds = model.predict(val_inputs)"
   ]
  },
  {
   "cell_type": "code",
   "execution_count": 111,
   "id": "40898042",
   "metadata": {
    "ExecuteTime": {
     "end_time": "2022-02-13T17:23:06.949605Z",
     "start_time": "2022-02-13T17:23:06.919603Z"
    }
   },
   "outputs": [
    {
     "name": "stdout",
     "output_type": "stream",
     "text": [
      "Train rmse: 0.27057633183521396, Train r2_score: 0.9016272128545605\n"
     ]
    }
   ],
   "source": [
    "#evaluation metrics for training set\n",
    "rmse = mean_squared_error(train_targets,train_preds, squared=False)\n",
    "r2 = r2_score(train_targets,train_preds)\n",
    "print('Train rmse: {}, Train r2_score: {}'.format(rmse, r2))"
   ]
  },
  {
   "cell_type": "code",
   "execution_count": 112,
   "id": "a17e8d95",
   "metadata": {
    "ExecuteTime": {
     "end_time": "2022-02-13T17:23:06.965679Z",
     "start_time": "2022-02-13T17:23:06.953607Z"
    }
   },
   "outputs": [
    {
     "name": "stdout",
     "output_type": "stream",
     "text": [
      "val rmse: 0.6714721570961325, val r2_score: 0.40526302205387843\n"
     ]
    }
   ],
   "source": [
    "#evaluation metrics for validation set\n",
    "rmse = mean_squared_error(val_targets,val_preds, squared=False)\n",
    "r2 = r2_score(val_targets,val_preds)\n",
    "print('val rmse: {}, val r2_score: {}'.format(rmse, r2))"
   ]
  },
  {
   "cell_type": "code",
   "execution_count": 113,
   "id": "b52185cd",
   "metadata": {
    "ExecuteTime": {
     "end_time": "2022-02-13T17:23:07.012721Z",
     "start_time": "2022-02-13T17:23:06.968682Z"
    }
   },
   "outputs": [],
   "source": [
    "#creating feature importance dataframe using model inference\n",
    "importance_df = pd.DataFrame({\n",
    "    'feature': train_inputs.columns,\n",
    "    'importance': model.feature_importances_\n",
    "}).sort_values('importance', ascending=False)"
   ]
  },
  {
   "cell_type": "code",
   "execution_count": 114,
   "id": "8db3219a",
   "metadata": {
    "ExecuteTime": {
     "end_time": "2022-02-13T17:23:07.044414Z",
     "start_time": "2022-02-13T17:23:07.015719Z"
    }
   },
   "outputs": [
    {
     "data": {
      "text/html": [
       "<div>\n",
       "<style scoped>\n",
       "    .dataframe tbody tr th:only-of-type {\n",
       "        vertical-align: middle;\n",
       "    }\n",
       "\n",
       "    .dataframe tbody tr th {\n",
       "        vertical-align: top;\n",
       "    }\n",
       "\n",
       "    .dataframe thead th {\n",
       "        text-align: right;\n",
       "    }\n",
       "</style>\n",
       "<table border=\"1\" class=\"dataframe\">\n",
       "  <thead>\n",
       "    <tr style=\"text-align: right;\">\n",
       "      <th></th>\n",
       "      <th>feature</th>\n",
       "      <th>importance</th>\n",
       "    </tr>\n",
       "  </thead>\n",
       "  <tbody>\n",
       "    <tr>\n",
       "      <th>7</th>\n",
       "      <td>gender_Male</td>\n",
       "      <td>0.264872</td>\n",
       "    </tr>\n",
       "    <tr>\n",
       "      <th>9</th>\n",
       "      <td>profession_Student</td>\n",
       "      <td>0.207803</td>\n",
       "    </tr>\n",
       "    <tr>\n",
       "      <th>6</th>\n",
       "      <td>gender_Female</td>\n",
       "      <td>0.126641</td>\n",
       "    </tr>\n",
       "    <tr>\n",
       "      <th>5</th>\n",
       "      <td>views</td>\n",
       "      <td>0.100302</td>\n",
       "    </tr>\n",
       "    <tr>\n",
       "      <th>0</th>\n",
       "      <td>user_id</td>\n",
       "      <td>0.077026</td>\n",
       "    </tr>\n",
       "    <tr>\n",
       "      <th>4</th>\n",
       "      <td>followers</td>\n",
       "      <td>0.060556</td>\n",
       "    </tr>\n",
       "    <tr>\n",
       "      <th>8</th>\n",
       "      <td>profession_Other</td>\n",
       "      <td>0.034897</td>\n",
       "    </tr>\n",
       "    <tr>\n",
       "      <th>2</th>\n",
       "      <td>video_id</td>\n",
       "      <td>0.034558</td>\n",
       "    </tr>\n",
       "    <tr>\n",
       "      <th>1</th>\n",
       "      <td>category_id</td>\n",
       "      <td>0.034190</td>\n",
       "    </tr>\n",
       "    <tr>\n",
       "      <th>3</th>\n",
       "      <td>age</td>\n",
       "      <td>0.031096</td>\n",
       "    </tr>\n",
       "    <tr>\n",
       "      <th>10</th>\n",
       "      <td>profession_Working Professional</td>\n",
       "      <td>0.028060</td>\n",
       "    </tr>\n",
       "  </tbody>\n",
       "</table>\n",
       "</div>"
      ],
      "text/plain": [
       "                            feature  importance\n",
       "7                       gender_Male    0.264872\n",
       "9                profession_Student    0.207803\n",
       "6                     gender_Female    0.126641\n",
       "5                             views    0.100302\n",
       "0                           user_id    0.077026\n",
       "4                         followers    0.060556\n",
       "8                  profession_Other    0.034897\n",
       "2                          video_id    0.034558\n",
       "1                       category_id    0.034190\n",
       "3                               age    0.031096\n",
       "10  profession_Working Professional    0.028060"
      ]
     },
     "execution_count": 114,
     "metadata": {},
     "output_type": "execute_result"
    }
   ],
   "source": [
    "importance_df"
   ]
  },
  {
   "cell_type": "code",
   "execution_count": 115,
   "id": "57ed03dd",
   "metadata": {
    "ExecuteTime": {
     "end_time": "2022-02-13T17:23:07.467875Z",
     "start_time": "2022-02-13T17:23:07.048417Z"
    }
   },
   "outputs": [
    {
     "data": {
      "image/png": "[encoded data removed]",
      "text/plain": [
       "<Figure size 720x432 with 1 Axes>"
      ]
     },
     "metadata": {
      "needs_background": "light"
     },
     "output_type": "display_data"
    }
   ],
   "source": [
    "#visualzing the feature importance\n",
    "import seaborn as sns\n",
    "plt.figure(figsize=(10,6))\n",
    "plt.title('Feature Importance')\n",
    "sns.barplot(data=importance_df.head(10), x='importance', y='feature');"
   ]
  },
  {
   "cell_type": "markdown",
   "id": "ebe32da3",
   "metadata": {},
   "source": [
    "## Basic Exploratory data analysis for better understanding the dataset"
   ]
  },
  {
   "cell_type": "code",
   "execution_count": 229,
   "id": "205af349",
   "metadata": {
    "ExecuteTime": {
     "end_time": "2022-02-11T09:20:43.172793Z",
     "start_time": "2022-02-11T09:20:42.868586Z"
    }
   },
   "outputs": [
    {
     "data": {
      "text/plain": [
       "<seaborn.axisgrid.FacetGrid at 0x2735baa7070>"
      ]
     },
     "execution_count": 229,
     "metadata": {},
     "output_type": "execute_result"
    },
    {
     "data": {
      "image/png": "[encoded data removed]",
      "text/plain": [
       "<Figure size 360x360 with 1 Axes>"
      ]
     },
     "metadata": {
      "needs_background": "light"
     },
     "output_type": "display_data"
    }
   ],
   "source": [
    "sns.catplot(x=\"gender\", y=\"engagement_score\", data=train,kind='box')"
   ]
  },
  {
   "cell_type": "code",
   "execution_count": 230,
   "id": "6f43673a",
   "metadata": {
    "ExecuteTime": {
     "end_time": "2022-02-11T09:20:44.513708Z",
     "start_time": "2022-02-11T09:20:43.174796Z"
    }
   },
   "outputs": [
    {
     "data": {
      "text/plain": [
       "<seaborn.axisgrid.FacetGrid at 0x2735c663af0>"
      ]
     },
     "execution_count": 230,
     "metadata": {},
     "output_type": "execute_result"
    },
    {
     "data": {
      "image/png": "[encoded data removed]",
      "text/plain": [
       "<Figure size 500.125x360 with 1 Axes>"
      ]
     },
     "metadata": {
      "needs_background": "light"
     },
     "output_type": "display_data"
    }
   ],
   "source": [
    "sns.catplot(x=\"gender\", y=\"engagement_score\", hue=\"profession\", kind=\"bar\", data=train)"
   ]
  },
  {
   "cell_type": "code",
   "execution_count": 980,
   "id": "508d5ce3",
   "metadata": {
    "ExecuteTime": {
     "end_time": "2022-02-12T13:11:39.529497Z",
     "start_time": "2022-02-12T13:11:39.506499Z"
    }
   },
   "outputs": [
    {
     "data": {
      "text/html": [
       "<div>\n",
       "<style scoped>\n",
       "    .dataframe tbody tr th:only-of-type {\n",
       "        vertical-align: middle;\n",
       "    }\n",
       "\n",
       "    .dataframe tbody tr th {\n",
       "        vertical-align: top;\n",
       "    }\n",
       "\n",
       "    .dataframe thead th {\n",
       "        text-align: right;\n",
       "    }\n",
       "</style>\n",
       "<table border=\"1\" class=\"dataframe\">\n",
       "  <thead>\n",
       "    <tr style=\"text-align: right;\">\n",
       "      <th></th>\n",
       "      <th>row_id</th>\n",
       "      <th>engagement_score</th>\n",
       "    </tr>\n",
       "  </thead>\n",
       "  <tbody>\n",
       "    <tr>\n",
       "      <th>0</th>\n",
       "      <td>89198</td>\n",
       "      <td>5.0</td>\n",
       "    </tr>\n",
       "    <tr>\n",
       "      <th>1</th>\n",
       "      <td>89199</td>\n",
       "      <td>5.0</td>\n",
       "    </tr>\n",
       "    <tr>\n",
       "      <th>2</th>\n",
       "      <td>89200</td>\n",
       "      <td>5.0</td>\n",
       "    </tr>\n",
       "    <tr>\n",
       "      <th>3</th>\n",
       "      <td>89201</td>\n",
       "      <td>5.0</td>\n",
       "    </tr>\n",
       "    <tr>\n",
       "      <th>4</th>\n",
       "      <td>89202</td>\n",
       "      <td>5.0</td>\n",
       "    </tr>\n",
       "    <tr>\n",
       "      <th>...</th>\n",
       "      <td>...</td>\n",
       "      <td>...</td>\n",
       "    </tr>\n",
       "    <tr>\n",
       "      <th>11116</th>\n",
       "      <td>100314</td>\n",
       "      <td>5.0</td>\n",
       "    </tr>\n",
       "    <tr>\n",
       "      <th>11117</th>\n",
       "      <td>100315</td>\n",
       "      <td>5.0</td>\n",
       "    </tr>\n",
       "    <tr>\n",
       "      <th>11118</th>\n",
       "      <td>100316</td>\n",
       "      <td>5.0</td>\n",
       "    </tr>\n",
       "    <tr>\n",
       "      <th>11119</th>\n",
       "      <td>100317</td>\n",
       "      <td>5.0</td>\n",
       "    </tr>\n",
       "    <tr>\n",
       "      <th>11120</th>\n",
       "      <td>100318</td>\n",
       "      <td>5.0</td>\n",
       "    </tr>\n",
       "  </tbody>\n",
       "</table>\n",
       "<p>11121 rows × 2 columns</p>\n",
       "</div>"
      ],
      "text/plain": [
       "       row_id  engagement_score\n",
       "0       89198               5.0\n",
       "1       89199               5.0\n",
       "2       89200               5.0\n",
       "3       89201               5.0\n",
       "4       89202               5.0\n",
       "...       ...               ...\n",
       "11116  100314               5.0\n",
       "11117  100315               5.0\n",
       "11118  100316               5.0\n",
       "11119  100317               5.0\n",
       "11120  100318               5.0\n",
       "\n",
       "[11121 rows x 2 columns]"
      ]
     },
     "execution_count": 980,
     "metadata": {},
     "output_type": "execute_result"
    }
   ],
   "source": [
    "sample"
   ]
  },
  {
   "cell_type": "markdown",
   "id": "08779477",
   "metadata": {},
   "source": [
    "## Training the model using the whole dataset"
   ]
  },
  {
   "cell_type": "code",
   "execution_count": 167,
   "id": "5a016ea1",
   "metadata": {
    "ExecuteTime": {
     "end_time": "2022-02-13T18:11:31.789914Z",
     "start_time": "2022-02-13T18:11:31.763912Z"
    }
   },
   "outputs": [],
   "source": [
    "model = XGBRegressor(n_jobs=-1, random_state=42, n_estimators=1500, \n",
    "                     learning_rate=0.2, max_depth=15, subsample=0.9, \n",
    "                     colsample_bytree=0.7)"
   ]
  },
  {
   "cell_type": "code",
   "execution_count": null,
   "id": "7ce1f8b1",
   "metadata": {},
   "outputs": [],
   "source": []
  },
  {
   "cell_type": "code",
   "execution_count": null,
   "id": "4e951a9b",
   "metadata": {},
   "outputs": [],
   "source": []
  },
  {
   "cell_type": "code",
   "execution_count": 168,
   "id": "9c0e903f",
   "metadata": {
    "ExecuteTime": {
     "end_time": "2022-02-13T18:11:33.786938Z",
     "start_time": "2022-02-13T18:11:33.698939Z"
    }
   },
   "outputs": [],
   "source": [
    "#using all the data from training\n",
    "inputs_df = inputs_df[numeric_cols + encoded_cols]"
   ]
  },
  {
   "cell_type": "code",
   "execution_count": 169,
   "id": "c1934d8e",
   "metadata": {
    "ExecuteTime": {
     "end_time": "2022-02-13T18:18:06.799854Z",
     "start_time": "2022-02-13T18:11:34.775679Z"
    }
   },
   "outputs": [
    {
     "data": {
      "text/plain": [
       "XGBRegressor(base_score=0.5, booster='gbtree', colsample_bylevel=1,\n",
       "             colsample_bynode=1, colsample_bytree=0.7, enable_categorical=False,\n",
       "             gamma=0, gpu_id=-1, importance_type=None,\n",
       "             interaction_constraints='', learning_rate=0.2, max_delta_step=0,\n",
       "             max_depth=15, min_child_weight=1, missing=nan,\n",
       "             monotone_constraints='()', n_estimators=1500, n_jobs=-1,\n",
       "             num_parallel_tree=1, predictor='auto', random_state=42,\n",
       "             reg_alpha=0, reg_lambda=1, scale_pos_weight=1, subsample=0.9,\n",
       "             tree_method='exact', validate_parameters=1, verbosity=None)"
      ]
     },
     "execution_count": 169,
     "metadata": {},
     "output_type": "execute_result"
    }
   ],
   "source": [
    "model.fit(inputs_df,targets)"
   ]
  },
  {
   "cell_type": "markdown",
   "id": "61e904fa",
   "metadata": {},
   "source": [
    "## Getting predictions on the test dataset"
   ]
  },
  {
   "cell_type": "code",
   "execution_count": 171,
   "id": "8209ed93",
   "metadata": {
    "ExecuteTime": {
     "end_time": "2022-02-13T18:19:08.445739Z",
     "start_time": "2022-02-13T18:19:07.563337Z"
    }
   },
   "outputs": [],
   "source": [
    "test = pd.read_csv('test_1zqHu22.csv')\n",
    "# test = test[['age','gender','profession','followers','views']]"
   ]
  },
  {
   "cell_type": "code",
   "execution_count": 172,
   "id": "e685fcfa",
   "metadata": {
    "ExecuteTime": {
     "end_time": "2022-02-13T18:19:08.715397Z",
     "start_time": "2022-02-13T18:19:08.453373Z"
    }
   },
   "outputs": [],
   "source": [
    "#dropping the row_id columns for predictions\n",
    "test = test.drop('row_id',axis=1)"
   ]
  },
  {
   "cell_type": "code",
   "execution_count": 173,
   "id": "afbf5530",
   "metadata": {
    "ExecuteTime": {
     "end_time": "2022-02-13T18:19:09.066414Z",
     "start_time": "2022-02-13T18:19:08.735399Z"
    }
   },
   "outputs": [],
   "source": [
    "#encoding and normalizing the test column value on par with the train columns\n",
    "test[encoded_cols] = encoder.transform(test[categorical_cols])\n",
    "test[['age','followers','views']] = scaler2.transform(test[['age','followers','views']])"
   ]
  },
  {
   "cell_type": "code",
   "execution_count": 174,
   "id": "27d7f34e",
   "metadata": {
    "ExecuteTime": {
     "end_time": "2022-02-13T18:19:09.226428Z",
     "start_time": "2022-02-13T18:19:09.068417Z"
    }
   },
   "outputs": [
    {
     "data": {
      "text/html": [
       "<div>\n",
       "<style scoped>\n",
       "    .dataframe tbody tr th:only-of-type {\n",
       "        vertical-align: middle;\n",
       "    }\n",
       "\n",
       "    .dataframe tbody tr th {\n",
       "        vertical-align: top;\n",
       "    }\n",
       "\n",
       "    .dataframe thead th {\n",
       "        text-align: right;\n",
       "    }\n",
       "</style>\n",
       "<table border=\"1\" class=\"dataframe\">\n",
       "  <thead>\n",
       "    <tr style=\"text-align: right;\">\n",
       "      <th></th>\n",
       "      <th>user_id</th>\n",
       "      <th>category_id</th>\n",
       "      <th>video_id</th>\n",
       "      <th>age</th>\n",
       "      <th>gender</th>\n",
       "      <th>profession</th>\n",
       "      <th>followers</th>\n",
       "      <th>views</th>\n",
       "      <th>gender_Female</th>\n",
       "      <th>gender_Male</th>\n",
       "      <th>profession_Other</th>\n",
       "      <th>profession_Student</th>\n",
       "      <th>profession_Working Professional</th>\n",
       "    </tr>\n",
       "  </thead>\n",
       "  <tbody>\n",
       "    <tr>\n",
       "      <th>0</th>\n",
       "      <td>7986</td>\n",
       "      <td>12</td>\n",
       "      <td>42</td>\n",
       "      <td>-1.211393</td>\n",
       "      <td>Male</td>\n",
       "      <td>Student</td>\n",
       "      <td>-1.572002</td>\n",
       "      <td>-1.358987</td>\n",
       "      <td>0.0</td>\n",
       "      <td>1.0</td>\n",
       "      <td>0.0</td>\n",
       "      <td>1.0</td>\n",
       "      <td>0.0</td>\n",
       "    </tr>\n",
       "    <tr>\n",
       "      <th>1</th>\n",
       "      <td>11278</td>\n",
       "      <td>34</td>\n",
       "      <td>115</td>\n",
       "      <td>-1.211393</td>\n",
       "      <td>Male</td>\n",
       "      <td>Student</td>\n",
       "      <td>-0.487267</td>\n",
       "      <td>1.254877</td>\n",
       "      <td>0.0</td>\n",
       "      <td>1.0</td>\n",
       "      <td>0.0</td>\n",
       "      <td>1.0</td>\n",
       "      <td>0.0</td>\n",
       "    </tr>\n",
       "    <tr>\n",
       "      <th>2</th>\n",
       "      <td>17245</td>\n",
       "      <td>8</td>\n",
       "      <td>110</td>\n",
       "      <td>2.138509</td>\n",
       "      <td>Female</td>\n",
       "      <td>Working Professional</td>\n",
       "      <td>0.597468</td>\n",
       "      <td>0.465505</td>\n",
       "      <td>1.0</td>\n",
       "      <td>0.0</td>\n",
       "      <td>0.0</td>\n",
       "      <td>0.0</td>\n",
       "      <td>1.0</td>\n",
       "    </tr>\n",
       "    <tr>\n",
       "      <th>3</th>\n",
       "      <td>9851</td>\n",
       "      <td>16</td>\n",
       "      <td>137</td>\n",
       "      <td>-0.764740</td>\n",
       "      <td>Male</td>\n",
       "      <td>Student</td>\n",
       "      <td>0.380521</td>\n",
       "      <td>-0.152588</td>\n",
       "      <td>0.0</td>\n",
       "      <td>1.0</td>\n",
       "      <td>0.0</td>\n",
       "      <td>1.0</td>\n",
       "      <td>0.0</td>\n",
       "    </tr>\n",
       "    <tr>\n",
       "      <th>4</th>\n",
       "      <td>16008</td>\n",
       "      <td>34</td>\n",
       "      <td>96</td>\n",
       "      <td>2.473499</td>\n",
       "      <td>Female</td>\n",
       "      <td>Other</td>\n",
       "      <td>-0.487267</td>\n",
       "      <td>1.254877</td>\n",
       "      <td>1.0</td>\n",
       "      <td>0.0</td>\n",
       "      <td>1.0</td>\n",
       "      <td>0.0</td>\n",
       "      <td>0.0</td>\n",
       "    </tr>\n",
       "    <tr>\n",
       "      <th>...</th>\n",
       "      <td>...</td>\n",
       "      <td>...</td>\n",
       "      <td>...</td>\n",
       "      <td>...</td>\n",
       "      <td>...</td>\n",
       "      <td>...</td>\n",
       "      <td>...</td>\n",
       "      <td>...</td>\n",
       "      <td>...</td>\n",
       "      <td>...</td>\n",
       "      <td>...</td>\n",
       "      <td>...</td>\n",
       "      <td>...</td>\n",
       "    </tr>\n",
       "    <tr>\n",
       "      <th>11116</th>\n",
       "      <td>26336</td>\n",
       "      <td>25</td>\n",
       "      <td>140</td>\n",
       "      <td>-0.429750</td>\n",
       "      <td>Male</td>\n",
       "      <td>Student</td>\n",
       "      <td>-0.270320</td>\n",
       "      <td>-0.692489</td>\n",
       "      <td>0.0</td>\n",
       "      <td>1.0</td>\n",
       "      <td>0.0</td>\n",
       "      <td>1.0</td>\n",
       "      <td>0.0</td>\n",
       "    </tr>\n",
       "    <tr>\n",
       "      <th>11117</th>\n",
       "      <td>6772</td>\n",
       "      <td>8</td>\n",
       "      <td>100</td>\n",
       "      <td>-0.653076</td>\n",
       "      <td>Female</td>\n",
       "      <td>Student</td>\n",
       "      <td>0.597468</td>\n",
       "      <td>0.465505</td>\n",
       "      <td>1.0</td>\n",
       "      <td>0.0</td>\n",
       "      <td>0.0</td>\n",
       "      <td>1.0</td>\n",
       "      <td>0.0</td>\n",
       "    </tr>\n",
       "    <tr>\n",
       "      <th>11118</th>\n",
       "      <td>2042</td>\n",
       "      <td>16</td>\n",
       "      <td>98</td>\n",
       "      <td>-0.318086</td>\n",
       "      <td>Male</td>\n",
       "      <td>Student</td>\n",
       "      <td>0.380521</td>\n",
       "      <td>-0.152588</td>\n",
       "      <td>0.0</td>\n",
       "      <td>1.0</td>\n",
       "      <td>0.0</td>\n",
       "      <td>1.0</td>\n",
       "      <td>0.0</td>\n",
       "    </tr>\n",
       "    <tr>\n",
       "      <th>11119</th>\n",
       "      <td>24626</td>\n",
       "      <td>8</td>\n",
       "      <td>16</td>\n",
       "      <td>0.910211</td>\n",
       "      <td>Male</td>\n",
       "      <td>Other</td>\n",
       "      <td>0.597468</td>\n",
       "      <td>0.465505</td>\n",
       "      <td>0.0</td>\n",
       "      <td>1.0</td>\n",
       "      <td>1.0</td>\n",
       "      <td>0.0</td>\n",
       "      <td>0.0</td>\n",
       "    </tr>\n",
       "    <tr>\n",
       "      <th>11120</th>\n",
       "      <td>967</td>\n",
       "      <td>8</td>\n",
       "      <td>74</td>\n",
       "      <td>0.910211</td>\n",
       "      <td>Male</td>\n",
       "      <td>Working Professional</td>\n",
       "      <td>0.597468</td>\n",
       "      <td>0.465505</td>\n",
       "      <td>0.0</td>\n",
       "      <td>1.0</td>\n",
       "      <td>0.0</td>\n",
       "      <td>0.0</td>\n",
       "      <td>1.0</td>\n",
       "    </tr>\n",
       "  </tbody>\n",
       "</table>\n",
       "<p>11121 rows × 13 columns</p>\n",
       "</div>"
      ],
      "text/plain": [
       "       user_id  category_id  video_id       age  gender            profession  \\\n",
       "0         7986           12        42 -1.211393    Male               Student   \n",
       "1        11278           34       115 -1.211393    Male               Student   \n",
       "2        17245            8       110  2.138509  Female  Working Professional   \n",
       "3         9851           16       137 -0.764740    Male               Student   \n",
       "4        16008           34        96  2.473499  Female                 Other   \n",
       "...        ...          ...       ...       ...     ...                   ...   \n",
       "11116    26336           25       140 -0.429750    Male               Student   \n",
       "11117     6772            8       100 -0.653076  Female               Student   \n",
       "11118     2042           16        98 -0.318086    Male               Student   \n",
       "11119    24626            8        16  0.910211    Male                 Other   \n",
       "11120      967            8        74  0.910211    Male  Working Professional   \n",
       "\n",
       "       followers     views  gender_Female  gender_Male  profession_Other  \\\n",
       "0      -1.572002 -1.358987            0.0          1.0               0.0   \n",
       "1      -0.487267  1.254877            0.0          1.0               0.0   \n",
       "2       0.597468  0.465505            1.0          0.0               0.0   \n",
       "3       0.380521 -0.152588            0.0          1.0               0.0   \n",
       "4      -0.487267  1.254877            1.0          0.0               1.0   \n",
       "...          ...       ...            ...          ...               ...   \n",
       "11116  -0.270320 -0.692489            0.0          1.0               0.0   \n",
       "11117   0.597468  0.465505            1.0          0.0               0.0   \n",
       "11118   0.380521 -0.152588            0.0          1.0               0.0   \n",
       "11119   0.597468  0.465505            0.0          1.0               1.0   \n",
       "11120   0.597468  0.465505            0.0          1.0               0.0   \n",
       "\n",
       "       profession_Student  profession_Working Professional  \n",
       "0                     1.0                              0.0  \n",
       "1                     1.0                              0.0  \n",
       "2                     0.0                              1.0  \n",
       "3                     1.0                              0.0  \n",
       "4                     0.0                              0.0  \n",
       "...                   ...                              ...  \n",
       "11116                 1.0                              0.0  \n",
       "11117                 1.0                              0.0  \n",
       "11118                 1.0                              0.0  \n",
       "11119                 0.0                              0.0  \n",
       "11120                 0.0                              1.0  \n",
       "\n",
       "[11121 rows x 13 columns]"
      ]
     },
     "execution_count": 174,
     "metadata": {},
     "output_type": "execute_result"
    }
   ],
   "source": [
    "test"
   ]
  },
  {
   "cell_type": "code",
   "execution_count": 175,
   "id": "fee1e88e",
   "metadata": {
    "ExecuteTime": {
     "end_time": "2022-02-13T18:19:09.287431Z",
     "start_time": "2022-02-13T18:19:09.229432Z"
    }
   },
   "outputs": [],
   "source": [
    "#concatinatng numeric and encoded cols\n",
    "test = test[numeric_cols + encoded_cols]"
   ]
  },
  {
   "cell_type": "code",
   "execution_count": 176,
   "id": "3a83b4d1",
   "metadata": {
    "ExecuteTime": {
     "end_time": "2022-02-13T18:19:09.335434Z",
     "start_time": "2022-02-13T18:19:09.290436Z"
    }
   },
   "outputs": [
    {
     "data": {
      "text/html": [
       "<div>\n",
       "<style scoped>\n",
       "    .dataframe tbody tr th:only-of-type {\n",
       "        vertical-align: middle;\n",
       "    }\n",
       "\n",
       "    .dataframe tbody tr th {\n",
       "        vertical-align: top;\n",
       "    }\n",
       "\n",
       "    .dataframe thead th {\n",
       "        text-align: right;\n",
       "    }\n",
       "</style>\n",
       "<table border=\"1\" class=\"dataframe\">\n",
       "  <thead>\n",
       "    <tr style=\"text-align: right;\">\n",
       "      <th></th>\n",
       "      <th>user_id</th>\n",
       "      <th>category_id</th>\n",
       "      <th>video_id</th>\n",
       "      <th>age</th>\n",
       "      <th>followers</th>\n",
       "      <th>views</th>\n",
       "      <th>gender_Female</th>\n",
       "      <th>gender_Male</th>\n",
       "      <th>profession_Other</th>\n",
       "      <th>profession_Student</th>\n",
       "      <th>profession_Working Professional</th>\n",
       "    </tr>\n",
       "  </thead>\n",
       "  <tbody>\n",
       "    <tr>\n",
       "      <th>0</th>\n",
       "      <td>7986</td>\n",
       "      <td>12</td>\n",
       "      <td>42</td>\n",
       "      <td>-1.211393</td>\n",
       "      <td>-1.572002</td>\n",
       "      <td>-1.358987</td>\n",
       "      <td>0.0</td>\n",
       "      <td>1.0</td>\n",
       "      <td>0.0</td>\n",
       "      <td>1.0</td>\n",
       "      <td>0.0</td>\n",
       "    </tr>\n",
       "    <tr>\n",
       "      <th>1</th>\n",
       "      <td>11278</td>\n",
       "      <td>34</td>\n",
       "      <td>115</td>\n",
       "      <td>-1.211393</td>\n",
       "      <td>-0.487267</td>\n",
       "      <td>1.254877</td>\n",
       "      <td>0.0</td>\n",
       "      <td>1.0</td>\n",
       "      <td>0.0</td>\n",
       "      <td>1.0</td>\n",
       "      <td>0.0</td>\n",
       "    </tr>\n",
       "    <tr>\n",
       "      <th>2</th>\n",
       "      <td>17245</td>\n",
       "      <td>8</td>\n",
       "      <td>110</td>\n",
       "      <td>2.138509</td>\n",
       "      <td>0.597468</td>\n",
       "      <td>0.465505</td>\n",
       "      <td>1.0</td>\n",
       "      <td>0.0</td>\n",
       "      <td>0.0</td>\n",
       "      <td>0.0</td>\n",
       "      <td>1.0</td>\n",
       "    </tr>\n",
       "    <tr>\n",
       "      <th>3</th>\n",
       "      <td>9851</td>\n",
       "      <td>16</td>\n",
       "      <td>137</td>\n",
       "      <td>-0.764740</td>\n",
       "      <td>0.380521</td>\n",
       "      <td>-0.152588</td>\n",
       "      <td>0.0</td>\n",
       "      <td>1.0</td>\n",
       "      <td>0.0</td>\n",
       "      <td>1.0</td>\n",
       "      <td>0.0</td>\n",
       "    </tr>\n",
       "    <tr>\n",
       "      <th>4</th>\n",
       "      <td>16008</td>\n",
       "      <td>34</td>\n",
       "      <td>96</td>\n",
       "      <td>2.473499</td>\n",
       "      <td>-0.487267</td>\n",
       "      <td>1.254877</td>\n",
       "      <td>1.0</td>\n",
       "      <td>0.0</td>\n",
       "      <td>1.0</td>\n",
       "      <td>0.0</td>\n",
       "      <td>0.0</td>\n",
       "    </tr>\n",
       "    <tr>\n",
       "      <th>...</th>\n",
       "      <td>...</td>\n",
       "      <td>...</td>\n",
       "      <td>...</td>\n",
       "      <td>...</td>\n",
       "      <td>...</td>\n",
       "      <td>...</td>\n",
       "      <td>...</td>\n",
       "      <td>...</td>\n",
       "      <td>...</td>\n",
       "      <td>...</td>\n",
       "      <td>...</td>\n",
       "    </tr>\n",
       "    <tr>\n",
       "      <th>11116</th>\n",
       "      <td>26336</td>\n",
       "      <td>25</td>\n",
       "      <td>140</td>\n",
       "      <td>-0.429750</td>\n",
       "      <td>-0.270320</td>\n",
       "      <td>-0.692489</td>\n",
       "      <td>0.0</td>\n",
       "      <td>1.0</td>\n",
       "      <td>0.0</td>\n",
       "      <td>1.0</td>\n",
       "      <td>0.0</td>\n",
       "    </tr>\n",
       "    <tr>\n",
       "      <th>11117</th>\n",
       "      <td>6772</td>\n",
       "      <td>8</td>\n",
       "      <td>100</td>\n",
       "      <td>-0.653076</td>\n",
       "      <td>0.597468</td>\n",
       "      <td>0.465505</td>\n",
       "      <td>1.0</td>\n",
       "      <td>0.0</td>\n",
       "      <td>0.0</td>\n",
       "      <td>1.0</td>\n",
       "      <td>0.0</td>\n",
       "    </tr>\n",
       "    <tr>\n",
       "      <th>11118</th>\n",
       "      <td>2042</td>\n",
       "      <td>16</td>\n",
       "      <td>98</td>\n",
       "      <td>-0.318086</td>\n",
       "      <td>0.380521</td>\n",
       "      <td>-0.152588</td>\n",
       "      <td>0.0</td>\n",
       "      <td>1.0</td>\n",
       "      <td>0.0</td>\n",
       "      <td>1.0</td>\n",
       "      <td>0.0</td>\n",
       "    </tr>\n",
       "    <tr>\n",
       "      <th>11119</th>\n",
       "      <td>24626</td>\n",
       "      <td>8</td>\n",
       "      <td>16</td>\n",
       "      <td>0.910211</td>\n",
       "      <td>0.597468</td>\n",
       "      <td>0.465505</td>\n",
       "      <td>0.0</td>\n",
       "      <td>1.0</td>\n",
       "      <td>1.0</td>\n",
       "      <td>0.0</td>\n",
       "      <td>0.0</td>\n",
       "    </tr>\n",
       "    <tr>\n",
       "      <th>11120</th>\n",
       "      <td>967</td>\n",
       "      <td>8</td>\n",
       "      <td>74</td>\n",
       "      <td>0.910211</td>\n",
       "      <td>0.597468</td>\n",
       "      <td>0.465505</td>\n",
       "      <td>0.0</td>\n",
       "      <td>1.0</td>\n",
       "      <td>0.0</td>\n",
       "      <td>0.0</td>\n",
       "      <td>1.0</td>\n",
       "    </tr>\n",
       "  </tbody>\n",
       "</table>\n",
       "<p>11121 rows × 11 columns</p>\n",
       "</div>"
      ],
      "text/plain": [
       "       user_id  category_id  video_id       age  followers     views  \\\n",
       "0         7986           12        42 -1.211393  -1.572002 -1.358987   \n",
       "1        11278           34       115 -1.211393  -0.487267  1.254877   \n",
       "2        17245            8       110  2.138509   0.597468  0.465505   \n",
       "3         9851           16       137 -0.764740   0.380521 -0.152588   \n",
       "4        16008           34        96  2.473499  -0.487267  1.254877   \n",
       "...        ...          ...       ...       ...        ...       ...   \n",
       "11116    26336           25       140 -0.429750  -0.270320 -0.692489   \n",
       "11117     6772            8       100 -0.653076   0.597468  0.465505   \n",
       "11118     2042           16        98 -0.318086   0.380521 -0.152588   \n",
       "11119    24626            8        16  0.910211   0.597468  0.465505   \n",
       "11120      967            8        74  0.910211   0.597468  0.465505   \n",
       "\n",
       "       gender_Female  gender_Male  profession_Other  profession_Student  \\\n",
       "0                0.0          1.0               0.0                 1.0   \n",
       "1                0.0          1.0               0.0                 1.0   \n",
       "2                1.0          0.0               0.0                 0.0   \n",
       "3                0.0          1.0               0.0                 1.0   \n",
       "4                1.0          0.0               1.0                 0.0   \n",
       "...              ...          ...               ...                 ...   \n",
       "11116            0.0          1.0               0.0                 1.0   \n",
       "11117            1.0          0.0               0.0                 1.0   \n",
       "11118            0.0          1.0               0.0                 1.0   \n",
       "11119            0.0          1.0               1.0                 0.0   \n",
       "11120            0.0          1.0               0.0                 0.0   \n",
       "\n",
       "       profession_Working Professional  \n",
       "0                                  0.0  \n",
       "1                                  0.0  \n",
       "2                                  1.0  \n",
       "3                                  0.0  \n",
       "4                                  0.0  \n",
       "...                                ...  \n",
       "11116                              0.0  \n",
       "11117                              0.0  \n",
       "11118                              0.0  \n",
       "11119                              0.0  \n",
       "11120                              1.0  \n",
       "\n",
       "[11121 rows x 11 columns]"
      ]
     },
     "execution_count": 176,
     "metadata": {},
     "output_type": "execute_result"
    }
   ],
   "source": [
    "test"
   ]
  },
  {
   "cell_type": "code",
   "execution_count": 177,
   "id": "2bb3e282",
   "metadata": {
    "ExecuteTime": {
     "end_time": "2022-02-13T18:19:17.063417Z",
     "start_time": "2022-02-13T18:19:11.855013Z"
    }
   },
   "outputs": [],
   "source": [
    "#test data preddictions\n",
    "test_pred = model.predict(test)"
   ]
  },
  {
   "cell_type": "code",
   "execution_count": 178,
   "id": "0e4175d1",
   "metadata": {
    "ExecuteTime": {
     "end_time": "2022-02-13T18:19:19.262367Z",
     "start_time": "2022-02-13T18:19:19.240366Z"
    }
   },
   "outputs": [
    {
     "data": {
      "text/plain": [
       "0        4.064027\n",
       "1        3.458420\n",
       "2        3.280552\n",
       "3        3.405906\n",
       "4        2.226127\n",
       "           ...   \n",
       "11116    3.869742\n",
       "11117    3.344770\n",
       "11118    3.015593\n",
       "11119    3.925570\n",
       "11120    2.188846\n",
       "Length: 11121, dtype: float32"
      ]
     },
     "execution_count": 178,
     "metadata": {},
     "output_type": "execute_result"
    }
   ],
   "source": [
    "pd.Series(test_pred)"
   ]
  },
  {
   "cell_type": "code",
   "execution_count": 179,
   "id": "89557466",
   "metadata": {
    "ExecuteTime": {
     "end_time": "2022-02-13T18:19:22.142632Z",
     "start_time": "2022-02-13T18:19:22.098615Z"
    }
   },
   "outputs": [],
   "source": [
    "#reading the test dataset again to match row_id column\n",
    "test = pd.read_csv('test_1zqHu22.csv')"
   ]
  },
  {
   "cell_type": "code",
   "execution_count": 180,
   "id": "3d819f0b",
   "metadata": {
    "ExecuteTime": {
     "end_time": "2022-02-13T18:19:22.285025Z",
     "start_time": "2022-02-13T18:19:22.271025Z"
    }
   },
   "outputs": [],
   "source": [
    "#creating submission csv\n",
    "a_series = pd. Series(test['row_id'], name=\"row_id\")\n",
    "another_series = pd. Series(pd.Series(test_pred), name=\"engagement_score\")\n",
    "df = pd. concat([a_series, another_series], axis=1) "
   ]
  },
  {
   "cell_type": "code",
   "execution_count": 181,
   "id": "02fd0a44",
   "metadata": {
    "ExecuteTime": {
     "end_time": "2022-02-13T18:19:22.504700Z",
     "start_time": "2022-02-13T18:19:22.486699Z"
    }
   },
   "outputs": [
    {
     "data": {
      "text/html": [
       "<div>\n",
       "<style scoped>\n",
       "    .dataframe tbody tr th:only-of-type {\n",
       "        vertical-align: middle;\n",
       "    }\n",
       "\n",
       "    .dataframe tbody tr th {\n",
       "        vertical-align: top;\n",
       "    }\n",
       "\n",
       "    .dataframe thead th {\n",
       "        text-align: right;\n",
       "    }\n",
       "</style>\n",
       "<table border=\"1\" class=\"dataframe\">\n",
       "  <thead>\n",
       "    <tr style=\"text-align: right;\">\n",
       "      <th></th>\n",
       "      <th>row_id</th>\n",
       "      <th>engagement_score</th>\n",
       "    </tr>\n",
       "  </thead>\n",
       "  <tbody>\n",
       "    <tr>\n",
       "      <th>0</th>\n",
       "      <td>89198</td>\n",
       "      <td>4.064027</td>\n",
       "    </tr>\n",
       "    <tr>\n",
       "      <th>1</th>\n",
       "      <td>89199</td>\n",
       "      <td>3.458420</td>\n",
       "    </tr>\n",
       "    <tr>\n",
       "      <th>2</th>\n",
       "      <td>89200</td>\n",
       "      <td>3.280552</td>\n",
       "    </tr>\n",
       "    <tr>\n",
       "      <th>3</th>\n",
       "      <td>89201</td>\n",
       "      <td>3.405906</td>\n",
       "    </tr>\n",
       "    <tr>\n",
       "      <th>4</th>\n",
       "      <td>89202</td>\n",
       "      <td>2.226127</td>\n",
       "    </tr>\n",
       "    <tr>\n",
       "      <th>...</th>\n",
       "      <td>...</td>\n",
       "      <td>...</td>\n",
       "    </tr>\n",
       "    <tr>\n",
       "      <th>11116</th>\n",
       "      <td>100314</td>\n",
       "      <td>3.869742</td>\n",
       "    </tr>\n",
       "    <tr>\n",
       "      <th>11117</th>\n",
       "      <td>100315</td>\n",
       "      <td>3.344770</td>\n",
       "    </tr>\n",
       "    <tr>\n",
       "      <th>11118</th>\n",
       "      <td>100316</td>\n",
       "      <td>3.015593</td>\n",
       "    </tr>\n",
       "    <tr>\n",
       "      <th>11119</th>\n",
       "      <td>100317</td>\n",
       "      <td>3.925570</td>\n",
       "    </tr>\n",
       "    <tr>\n",
       "      <th>11120</th>\n",
       "      <td>100318</td>\n",
       "      <td>2.188846</td>\n",
       "    </tr>\n",
       "  </tbody>\n",
       "</table>\n",
       "<p>11121 rows × 2 columns</p>\n",
       "</div>"
      ],
      "text/plain": [
       "       row_id  engagement_score\n",
       "0       89198          4.064027\n",
       "1       89199          3.458420\n",
       "2       89200          3.280552\n",
       "3       89201          3.405906\n",
       "4       89202          2.226127\n",
       "...       ...               ...\n",
       "11116  100314          3.869742\n",
       "11117  100315          3.344770\n",
       "11118  100316          3.015593\n",
       "11119  100317          3.925570\n",
       "11120  100318          2.188846\n",
       "\n",
       "[11121 rows x 2 columns]"
      ]
     },
     "execution_count": 181,
     "metadata": {},
     "output_type": "execute_result"
    }
   ],
   "source": [
    "df"
   ]
  },
  {
   "cell_type": "code",
   "execution_count": 182,
   "id": "eebcfdd2",
   "metadata": {
    "ExecuteTime": {
     "end_time": "2022-02-13T18:19:23.409858Z",
     "start_time": "2022-02-13T18:19:23.391860Z"
    }
   },
   "outputs": [
    {
     "data": {
      "text/html": [
       "<div>\n",
       "<style scoped>\n",
       "    .dataframe tbody tr th:only-of-type {\n",
       "        vertical-align: middle;\n",
       "    }\n",
       "\n",
       "    .dataframe tbody tr th {\n",
       "        vertical-align: top;\n",
       "    }\n",
       "\n",
       "    .dataframe thead th {\n",
       "        text-align: right;\n",
       "    }\n",
       "</style>\n",
       "<table border=\"1\" class=\"dataframe\">\n",
       "  <thead>\n",
       "    <tr style=\"text-align: right;\">\n",
       "      <th></th>\n",
       "      <th>row_id</th>\n",
       "      <th>engagement_score</th>\n",
       "    </tr>\n",
       "  </thead>\n",
       "  <tbody>\n",
       "    <tr>\n",
       "      <th>0</th>\n",
       "      <td>89198</td>\n",
       "      <td>5.0</td>\n",
       "    </tr>\n",
       "    <tr>\n",
       "      <th>1</th>\n",
       "      <td>89199</td>\n",
       "      <td>5.0</td>\n",
       "    </tr>\n",
       "    <tr>\n",
       "      <th>2</th>\n",
       "      <td>89200</td>\n",
       "      <td>5.0</td>\n",
       "    </tr>\n",
       "    <tr>\n",
       "      <th>3</th>\n",
       "      <td>89201</td>\n",
       "      <td>5.0</td>\n",
       "    </tr>\n",
       "    <tr>\n",
       "      <th>4</th>\n",
       "      <td>89202</td>\n",
       "      <td>5.0</td>\n",
       "    </tr>\n",
       "    <tr>\n",
       "      <th>...</th>\n",
       "      <td>...</td>\n",
       "      <td>...</td>\n",
       "    </tr>\n",
       "    <tr>\n",
       "      <th>11116</th>\n",
       "      <td>100314</td>\n",
       "      <td>5.0</td>\n",
       "    </tr>\n",
       "    <tr>\n",
       "      <th>11117</th>\n",
       "      <td>100315</td>\n",
       "      <td>5.0</td>\n",
       "    </tr>\n",
       "    <tr>\n",
       "      <th>11118</th>\n",
       "      <td>100316</td>\n",
       "      <td>5.0</td>\n",
       "    </tr>\n",
       "    <tr>\n",
       "      <th>11119</th>\n",
       "      <td>100317</td>\n",
       "      <td>5.0</td>\n",
       "    </tr>\n",
       "    <tr>\n",
       "      <th>11120</th>\n",
       "      <td>100318</td>\n",
       "      <td>5.0</td>\n",
       "    </tr>\n",
       "  </tbody>\n",
       "</table>\n",
       "<p>11121 rows × 2 columns</p>\n",
       "</div>"
      ],
      "text/plain": [
       "       row_id  engagement_score\n",
       "0       89198               5.0\n",
       "1       89199               5.0\n",
       "2       89200               5.0\n",
       "3       89201               5.0\n",
       "4       89202               5.0\n",
       "...       ...               ...\n",
       "11116  100314               5.0\n",
       "11117  100315               5.0\n",
       "11118  100316               5.0\n",
       "11119  100317               5.0\n",
       "11120  100318               5.0\n",
       "\n",
       "[11121 rows x 2 columns]"
      ]
     },
     "execution_count": 182,
     "metadata": {},
     "output_type": "execute_result"
    }
   ],
   "source": [
    "sample"
   ]
  },
  {
   "cell_type": "code",
   "execution_count": 183,
   "id": "33ad5284",
   "metadata": {
    "ExecuteTime": {
     "end_time": "2022-02-13T18:19:26.114656Z",
     "start_time": "2022-02-13T18:19:26.019612Z"
    }
   },
   "outputs": [],
   "source": [
    "#saving the model prediction on the test data\n",
    "df.to_csv('rough_submission.csv',index=False)"
   ]
  },
  {
   "cell_type": "code",
   "execution_count": 184,
   "id": "3ed5272e",
   "metadata": {
    "ExecuteTime": {
     "end_time": "2022-02-13T18:19:26.130656Z",
     "start_time": "2022-02-13T18:19:26.117658Z"
    }
   },
   "outputs": [
    {
     "data": {
      "text/plain": [
       "XGBRegressor(base_score=0.5, booster='gbtree', colsample_bylevel=1,\n",
       "             colsample_bynode=1, colsample_bytree=0.7, enable_categorical=False,\n",
       "             gamma=0, gpu_id=-1, importance_type=None,\n",
       "             interaction_constraints='', learning_rate=0.2, max_delta_step=0,\n",
       "             max_depth=15, min_child_weight=1, missing=nan,\n",
       "             monotone_constraints='()', n_estimators=1500, n_jobs=-1,\n",
       "             num_parallel_tree=1, predictor='auto', random_state=42,\n",
       "             reg_alpha=0, reg_lambda=1, scale_pos_weight=1, subsample=0.9,\n",
       "             tree_method='exact', validate_parameters=1, verbosity=None)"
      ]
     },
     "execution_count": 184,
     "metadata": {},
     "output_type": "execute_result"
    }
   ],
   "source": [
    "model"
   ]
  },
  {
   "cell_type": "code",
   "execution_count": 84,
   "id": "5fb54aeb",
   "metadata": {
    "ExecuteTime": {
     "end_time": "2022-02-13T11:06:38.426392Z",
     "start_time": "2022-02-13T11:06:38.393390Z"
    }
   },
   "outputs": [
    {
     "data": {
      "text/html": [
       "<div>\n",
       "<style scoped>\n",
       "    .dataframe tbody tr th:only-of-type {\n",
       "        vertical-align: middle;\n",
       "    }\n",
       "\n",
       "    .dataframe tbody tr th {\n",
       "        vertical-align: top;\n",
       "    }\n",
       "\n",
       "    .dataframe thead th {\n",
       "        text-align: right;\n",
       "    }\n",
       "</style>\n",
       "<table border=\"1\" class=\"dataframe\">\n",
       "  <thead>\n",
       "    <tr style=\"text-align: right;\">\n",
       "      <th></th>\n",
       "      <th>row_id</th>\n",
       "      <th>engagement_score</th>\n",
       "    </tr>\n",
       "  </thead>\n",
       "  <tbody>\n",
       "    <tr>\n",
       "      <th>0</th>\n",
       "      <td>89198</td>\n",
       "      <td>4.254420</td>\n",
       "    </tr>\n",
       "    <tr>\n",
       "      <th>1</th>\n",
       "      <td>89199</td>\n",
       "      <td>3.716461</td>\n",
       "    </tr>\n",
       "    <tr>\n",
       "      <th>2</th>\n",
       "      <td>89200</td>\n",
       "      <td>3.630556</td>\n",
       "    </tr>\n",
       "    <tr>\n",
       "      <th>3</th>\n",
       "      <td>89201</td>\n",
       "      <td>3.317790</td>\n",
       "    </tr>\n",
       "    <tr>\n",
       "      <th>4</th>\n",
       "      <td>89202</td>\n",
       "      <td>2.620442</td>\n",
       "    </tr>\n",
       "    <tr>\n",
       "      <th>...</th>\n",
       "      <td>...</td>\n",
       "      <td>...</td>\n",
       "    </tr>\n",
       "    <tr>\n",
       "      <th>11116</th>\n",
       "      <td>100314</td>\n",
       "      <td>3.509440</td>\n",
       "    </tr>\n",
       "    <tr>\n",
       "      <th>11117</th>\n",
       "      <td>100315</td>\n",
       "      <td>3.061501</td>\n",
       "    </tr>\n",
       "    <tr>\n",
       "      <th>11118</th>\n",
       "      <td>100316</td>\n",
       "      <td>3.027391</td>\n",
       "    </tr>\n",
       "    <tr>\n",
       "      <th>11119</th>\n",
       "      <td>100317</td>\n",
       "      <td>3.430459</td>\n",
       "    </tr>\n",
       "    <tr>\n",
       "      <th>11120</th>\n",
       "      <td>100318</td>\n",
       "      <td>3.275078</td>\n",
       "    </tr>\n",
       "  </tbody>\n",
       "</table>\n",
       "<p>11121 rows × 2 columns</p>\n",
       "</div>"
      ],
      "text/plain": [
       "       row_id  engagement_score\n",
       "0       89198          4.254420\n",
       "1       89199          3.716461\n",
       "2       89200          3.630556\n",
       "3       89201          3.317790\n",
       "4       89202          2.620442\n",
       "...       ...               ...\n",
       "11116  100314          3.509440\n",
       "11117  100315          3.061501\n",
       "11118  100316          3.027391\n",
       "11119  100317          3.430459\n",
       "11120  100318          3.275078\n",
       "\n",
       "[11121 rows x 2 columns]"
      ]
     },
     "execution_count": 84,
     "metadata": {},
     "output_type": "execute_result"
    }
   ],
   "source": [
    "pd.read_csv('rough_submission.csv')"
   ]
  },
  {
   "cell_type": "code",
   "execution_count": null,
   "id": "62fdf0f0",
   "metadata": {},
   "outputs": [],
   "source": []
  },
  {
   "cell_type": "code",
   "execution_count": null,
   "id": "21b51661",
   "metadata": {},
   "outputs": [],
   "source": []
  },
  {
   "cell_type": "code",
   "execution_count": null,
   "id": "d38d9cb3",
   "metadata": {},
   "outputs": [],
   "source": []
  },
  {
   "cell_type": "code",
   "execution_count": null,
   "id": "c4649ce6",
   "metadata": {},
   "outputs": [],
   "source": []
  },
  {
   "cell_type": "code",
   "execution_count": null,
   "id": "052a2e37",
   "metadata": {},
   "outputs": [],
   "source": []
  },
  {
   "cell_type": "code",
   "execution_count": null,
   "id": "56bbffb3",
   "metadata": {},
   "outputs": [],
   "source": []
  },
  {
   "cell_type": "code",
   "execution_count": null,
   "id": "8cd233f9",
   "metadata": {},
   "outputs": [],
   "source": []
  },
  {
   "cell_type": "code",
   "execution_count": null,
   "id": "293745e4",
   "metadata": {},
   "outputs": [],
   "source": []
  },
  {
   "cell_type": "code",
   "execution_count": null,
   "id": "53d2b551",
   "metadata": {},
   "outputs": [],
   "source": []
  },
  {
   "cell_type": "code",
   "execution_count": null,
   "id": "176a50f8",
   "metadata": {},
   "outputs": [],
   "source": []
  },
  {
   "cell_type": "code",
   "execution_count": null,
   "id": "33e0deee",
   "metadata": {},
   "outputs": [],
   "source": []
  },
  {
   "cell_type": "code",
   "execution_count": null,
   "id": "6487c4ab",
   "metadata": {},
   "outputs": [],
   "source": []
  }
 ],
 "metadata": {
  "kernelspec": {
   "display_name": "Python 3 (ipykernel)",
   "language": "python",
   "name": "python3"
  },
  "language_info": {
   "codemirror_mode": {
    "name": "ipython",
    "version": 3
   },
   "file_extension": ".py",
   "mimetype": "text/x-python",
   "name": "python",
   "nbconvert_exporter": "python",
   "pygments_lexer": "ipython3",
   "version": "3.8.12"
  },
  "toc": {
   "base_numbering": 1,
   "nav_menu": {
    "height": "43px",
    "width": "160px"
   },
   "number_sections": true,
   "sideBar": true,
   "skip_h1_title": false,
   "title_cell": "Table of Contents",
   "title_sidebar": "Contents",
   "toc_cell": false,
   "toc_position": {},
   "toc_section_display": true,
   "toc_window_display": false
  }
 },
 "nbformat": 4,
 "nbformat_minor": 5
}
